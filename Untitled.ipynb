{
 "cells": [
  {
   "cell_type": "markdown",
   "metadata": {},
   "source": [
    "### Assignment 1"
   ]
  },
  {
   "cell_type": "code",
   "execution_count": 4,
   "metadata": {},
   "outputs": [
    {
     "name": "stdout",
     "output_type": "stream",
     "text": [
      "None\n",
      "{'d': 3, 'c': 4, 'a': 1, 'b': 2}\n"
     ]
    }
   ],
   "source": [
    "def Merge(dict1, dict2): \n",
    "    return(dict2.update(dict1)) \n",
    "      \n",
    "dict1 = {'a': 1, 'b': 2} \n",
    "dict2 = {'d': 3, 'c': 4} \n",
    "  \n",
    "print(Merge(dict1, dict2)) \n",
    "  \n",
    "print(dict2) "
   ]
  },
  {
   "cell_type": "markdown",
   "metadata": {},
   "source": [
    "### Assignment 2"
   ]
  },
  {
   "cell_type": "code",
   "execution_count": null,
   "metadata": {},
   "outputs": [],
   "source": [
    "import random\n",
    "\n",
    "def dealCard(a):\n",
    "    b=random.randint(1,13)\n",
    "    a=a+b\n",
    "    return a\n",
    "\n",
    "while True:\n",
    "    player=0\n",
    "    dealer=0\n",
    "    \n",
    "    player=dealCard(player)\n",
    "    dealer=dealCard(dealer)\n",
    "    print('你的第一個數字為',player,'有要繼續嗎？')\n",
    "    checkA =input('要or不要：')\n",
    "    while True:    \n",
    "        if (checkA=='要'):\n",
    "            sec = player\n",
    "            player=dealCard(player)\n",
    "            dealer = dealCard(dealer)\n",
    "            print('你的數字是',player-sec,'，然後你現在有',player,'點')\n",
    "            if (dealer >21 or player >21):\n",
    "                break\n",
    "            checkA =input('要or不要：')\n",
    "        else:\n",
    "            break\n",
    "    else:\n",
    "        print('你總共有',player,'點，莊家有',dealer,'點')\n",
    "\n",
    "    \n",
    "    if player<=21:\n",
    "        if dealer<=21:\n",
    "            if player<dealer:\n",
    "                print('你總共有:',player,'點，莊家總共有:',dealer,'點')\n",
    "                print('莊家贏了，掰掰')\n",
    "            else:\n",
    "                print('你總共有:',player,'點，莊家總共有:',dealer,'點')\n",
    "                print('你贏了，掰掰')\n",
    "        else:\n",
    "            print('你總共有:',player,'點，莊家總共有:',dealer,'點')\n",
    "            print('莊家爆了，所以你贏了！恭喜你')\n",
    "    else:\n",
    "        print('你爆了，你總共有:',player,'點，莊家總共有:',dealer,'點，你爆了！掰掰')\n",
    "    print(\" \")\n"
   ]
  },
  {
   "cell_type": "markdown",
   "metadata": {},
   "source": [
    "### Assignment 3"
   ]
  },
  {
   "cell_type": "code",
   "execution_count": null,
   "metadata": {},
   "outputs": [
    {
     "name": "stdout",
     "output_type": "stream",
     "text": [
      "dict_items([(1, '大麥克'), (2, '雙層牛肉吉事堡'), (3, '安格斯黑牛堡'), (4, '嫩煎雞腿堡'), (5, '麥香雞'), (6, '6塊麥克雞塊'), (7, '9塊麥克雞塊'), (8, '勁辣雞腿堡'), (9, '2塊麥脆雞'), (10, '3塊麥脆雞'), (11, '黃金起司豬排堡'), (12, '麥香魚'), (13, '千島黃金蝦堡'), (14, 'BLT安格斯黑牛堡'), (15, 'BLT辣脆雞腿堡'), (16, 'BLT嫩煎雞腿堡'), (17, '蕈菇安格斯黑牛堡'), (18, '凱薩脆雞沙拉'), (19, '義式烤雞沙拉'), (20, '經典套餐'), (21, '清爽配餐'), (22, '酷炫配餐'), (23, '勁脆配餐'), (24, '搖搖豪麥配餐')])\n"
     ]
    }
   ],
   "source": [
    "food = {1:'大麥克',2:'雙層牛肉吉事堡',3:'安格斯黑牛堡',4:'嫩煎雞腿堡',5:'麥香雞',6:'6塊麥克雞塊',7:'9塊麥克雞塊',8:'勁辣雞腿堡',9:'2塊麥脆雞',10:'3塊麥脆雞',11:'黃金起司豬排堡',12:'麥香魚', 13:'千島黃金蝦堡',14:'BLT安格斯黑牛堡',15:'BLT辣脆雞腿堡',16:'BLT嫩煎雞腿堡',17:'蕈菇安格斯黑牛堡',18:'凱薩脆雞沙拉',19:'義式烤雞沙拉',20:'經典套餐',21:'清爽配餐',22:'酷炫配餐',23:'勁脆配餐',24:'搖搖豪麥配餐'}\n",
    "price = {'大麥克':69,'雙層牛肉吉事堡':59,'安格斯黑牛堡':99,'嫩煎雞腿堡':79,'麥香雞':49,'6塊麥克雞塊':59,'9塊麥克雞塊':89,'勁辣雞腿堡':69,'2塊麥脆雞':104,'3塊麥脆雞':156,'黃金起司豬排堡':49,'麥香魚':49, '千島黃金蝦堡':69,'BLT安格斯黑牛堡':109,'BLT辣脆雞腿堡':109,'BLT嫩煎雞腿堡':109,'蕈菇安格斯黑牛堡':119,'凱薩脆雞沙拉':99,'義式烤雞沙拉':99,'經典套餐':50,'清爽配餐':50,'酷炫配餐':65,'勁脆配餐':65,'搖搖豪麥配餐':79}\n",
    "order=[]\n",
    "total=[]\n",
    "totalP=0\n",
    "\n",
    "print(food.items())\n",
    "while True:\n",
    "    a = int(input('請對照上面的數字，輸入想要點的餐點（輸完請輸入0）'))\n",
    "    if (a==0):\n",
    "        print('結束')\n",
    "        print('你的餐點分別為：\\n',order)\n",
    "        print('每一項的價格分別為:\\n',total)\n",
    "        print('總金額為：',totalP,'元')\n",
    "        break\n",
    "    else:\n",
    "        b = food[a]\n",
    "        order.append(b)\n",
    "        total.append(price[b])\n",
    "        totalP=totalP+price[b]"
   ]
  },
  {
   "cell_type": "code",
   "execution_count": null,
   "metadata": {},
   "outputs": [],
   "source": []
  }
 ],
 "metadata": {
  "kernelspec": {
   "display_name": "Python 3",
   "language": "python",
   "name": "python3"
  },
  "language_info": {
   "codemirror_mode": {
    "name": "ipython",
    "version": 3
   },
   "file_extension": ".py",
   "mimetype": "text/x-python",
   "name": "python",
   "nbconvert_exporter": "python",
   "pygments_lexer": "ipython3",
   "version": "3.7.3"
  }
 },
 "nbformat": 4,
 "nbformat_minor": 2
}
